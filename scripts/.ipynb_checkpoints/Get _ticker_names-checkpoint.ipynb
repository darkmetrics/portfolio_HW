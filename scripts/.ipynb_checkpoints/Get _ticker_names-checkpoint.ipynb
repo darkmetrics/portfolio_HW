{
 "cells": [
  {
   "cell_type": "code",
   "execution_count": 1,
   "metadata": {},
   "outputs": [],
   "source": [
    "import numpy as np\n",
    "import pandas as pd\n",
    "import matplotlib.pyplot as plt"
   ]
  },
  {
   "cell_type": "code",
   "execution_count": 2,
   "metadata": {},
   "outputs": [],
   "source": [
    "%matplotlib inline"
   ]
  },
  {
   "cell_type": "code",
   "execution_count": 3,
   "metadata": {},
   "outputs": [],
   "source": [
    "import os"
   ]
  },
  {
   "cell_type": "markdown",
   "metadata": {},
   "source": [
    "### Этот ноутбук предназначен для поиска всех эмитентов, которые когда - либо входили в индекс ММВБ-10.\n",
    "[Данные о ребалансировках индекса и конкретных эмитентах можно скачать на сайте Мосбиржи в соответствующем разделе.](https://www.moex.com/ru/index/MOEX10/constituents/)"
   ]
  },
  {
   "cell_type": "markdown",
   "metadata": {},
   "source": [
    "Посмотрим, что из себя представляет страница ребалансировок за какой-то год в Эксель-файле."
   ]
  },
  {
   "cell_type": "code",
   "execution_count": 4,
   "metadata": {},
   "outputs": [
    {
     "data": {
      "text/html": [
       "<div>\n",
       "<style scoped>\n",
       "    .dataframe tbody tr th:only-of-type {\n",
       "        vertical-align: middle;\n",
       "    }\n",
       "\n",
       "    .dataframe tbody tr th {\n",
       "        vertical-align: top;\n",
       "    }\n",
       "\n",
       "    .dataframe thead th {\n",
       "        text-align: right;\n",
       "    }\n",
       "</style>\n",
       "<table border=\"1\" class=\"dataframe\">\n",
       "  <thead>\n",
       "    <tr style=\"text-align: right;\">\n",
       "      <th></th>\n",
       "      <th>Year</th>\n",
       "      <th>Quarter</th>\n",
       "      <th>FirstDate</th>\n",
       "      <th>LastDate</th>\n",
       "      <th>SecID</th>\n",
       "      <th>P_0</th>\n",
       "      <th>K</th>\n",
       "      <th>NumDays</th>\n",
       "      <th>NumTrades</th>\n",
       "      <th>Turnover</th>\n",
       "      <th>NumParticipants</th>\n",
       "    </tr>\n",
       "  </thead>\n",
       "  <tbody>\n",
       "    <tr>\n",
       "      <th>0</th>\n",
       "      <td>2010</td>\n",
       "      <td>1</td>\n",
       "      <td>2010-01-12</td>\n",
       "      <td>2010-04-01</td>\n",
       "      <td>FEES</td>\n",
       "      <td>0.320</td>\n",
       "      <td>3174.8349</td>\n",
       "      <td>65</td>\n",
       "      <td>418551</td>\n",
       "      <td>4.103957e+10</td>\n",
       "      <td>289</td>\n",
       "    </tr>\n",
       "    <tr>\n",
       "      <th>1</th>\n",
       "      <td>2010</td>\n",
       "      <td>1</td>\n",
       "      <td>2010-01-12</td>\n",
       "      <td>2010-04-01</td>\n",
       "      <td>GAZP</td>\n",
       "      <td>183.090</td>\n",
       "      <td>3174.8349</td>\n",
       "      <td>65</td>\n",
       "      <td>5426444</td>\n",
       "      <td>9.970023e+11</td>\n",
       "      <td>400</td>\n",
       "    </tr>\n",
       "    <tr>\n",
       "      <th>2</th>\n",
       "      <td>2010</td>\n",
       "      <td>1</td>\n",
       "      <td>2010-01-12</td>\n",
       "      <td>2010-04-01</td>\n",
       "      <td>GMKN</td>\n",
       "      <td>4245.020</td>\n",
       "      <td>3174.8349</td>\n",
       "      <td>65</td>\n",
       "      <td>1989564</td>\n",
       "      <td>2.547251e+11</td>\n",
       "      <td>315</td>\n",
       "    </tr>\n",
       "    <tr>\n",
       "      <th>3</th>\n",
       "      <td>2010</td>\n",
       "      <td>1</td>\n",
       "      <td>2010-01-12</td>\n",
       "      <td>2010-04-01</td>\n",
       "      <td>HYDR</td>\n",
       "      <td>1.138</td>\n",
       "      <td>3174.8349</td>\n",
       "      <td>65</td>\n",
       "      <td>480948</td>\n",
       "      <td>4.036241e+10</td>\n",
       "      <td>296</td>\n",
       "    </tr>\n",
       "    <tr>\n",
       "      <th>4</th>\n",
       "      <td>2010</td>\n",
       "      <td>1</td>\n",
       "      <td>2010-01-12</td>\n",
       "      <td>2010-04-01</td>\n",
       "      <td>LKOH</td>\n",
       "      <td>1694.000</td>\n",
       "      <td>3174.8349</td>\n",
       "      <td>65</td>\n",
       "      <td>2377757</td>\n",
       "      <td>2.695565e+11</td>\n",
       "      <td>350</td>\n",
       "    </tr>\n",
       "  </tbody>\n",
       "</table>\n",
       "</div>"
      ],
      "text/plain": [
       "   Year  Quarter  FirstDate   LastDate SecID       P_0          K  NumDays  \\\n",
       "0  2010        1 2010-01-12 2010-04-01  FEES     0.320  3174.8349       65   \n",
       "1  2010        1 2010-01-12 2010-04-01  GAZP   183.090  3174.8349       65   \n",
       "2  2010        1 2010-01-12 2010-04-01  GMKN  4245.020  3174.8349       65   \n",
       "3  2010        1 2010-01-12 2010-04-01  HYDR     1.138  3174.8349       65   \n",
       "4  2010        1 2010-01-12 2010-04-01  LKOH  1694.000  3174.8349       65   \n",
       "\n",
       "   NumTrades      Turnover  NumParticipants  \n",
       "0     418551  4.103957e+10              289  \n",
       "1    5426444  9.970023e+11              400  \n",
       "2    1989564  2.547251e+11              315  \n",
       "3     480948  4.036241e+10              296  \n",
       "4    2377757  2.695565e+11              350  "
      ]
     },
     "execution_count": 4,
     "metadata": {},
     "output_type": "execute_result"
    }
   ],
   "source": [
    "path = (os.getcwd()+'/data/stock-index-base-moex10-210318.xlsx').replace('\\\\', '/').replace('/scripts', '')\n",
    "moex10 = pd.DataFrame(pd.read_excel(path, \n",
    "                                    engine='openpyxl', sheet_name='2010'))\n",
    "moex10.head()"
   ]
  },
  {
   "cell_type": "markdown",
   "metadata": {},
   "source": [
    "Мы поняли, что нас интересует SecID. Теперь надо собрать все тикеры со всех листов, начиная с 2010 года."
   ]
  },
  {
   "cell_type": "code",
   "execution_count": 5,
   "metadata": {},
   "outputs": [
    {
     "data": {
      "text/plain": [
       "{'AFKS',\n",
       " 'AFLT',\n",
       " 'ALRS',\n",
       " 'CHMF',\n",
       " 'FEES',\n",
       " 'GAZP',\n",
       " 'GMKN',\n",
       " 'HYDR',\n",
       " 'LKOH',\n",
       " 'MAGN',\n",
       " 'MGNT',\n",
       " 'MOEX',\n",
       " 'MTLR',\n",
       " 'MTSS',\n",
       " 'NLMK',\n",
       " 'NVTK',\n",
       " 'PLZL',\n",
       " 'POLY',\n",
       " 'ROSN',\n",
       " 'RTKM',\n",
       " 'SBER',\n",
       " 'SBER03',\n",
       " 'SBERP',\n",
       " 'SBERP03',\n",
       " 'SNGS',\n",
       " 'SNGSP',\n",
       " 'TATN',\n",
       " 'TRNFP',\n",
       " 'URKA',\n",
       " 'VTBR',\n",
       " 'YNDX'}"
      ]
     },
     "execution_count": 5,
     "metadata": {},
     "output_type": "execute_result"
    }
   ],
   "source": [
    "from functools import reduce\n",
    "years = [str(x) for x in range(2010, 2022)]\n",
    "tickers = []\n",
    "for year in years:\n",
    "    tickers+=\\\n",
    "        pd.read_excel(path, sheet_name=year, usecols=['SecID']).values.ravel().tolist()\n",
    "\n",
    "tickers = [ticker.strip() for ticker in tickers]\n",
    "set(tickers)"
   ]
  },
  {
   "cell_type": "markdown",
   "metadata": {},
   "source": [
    "Единственное, что смущает - это какой-то непонятный SBER03. Выкинем его из списка."
   ]
  },
  {
   "cell_type": "code",
   "execution_count": 6,
   "metadata": {},
   "outputs": [],
   "source": [
    "tickers = list(filter(lambda x: x not in ['SBER03', 'SBERP03'], tickers))"
   ]
  },
  {
   "cell_type": "code",
   "execution_count": 7,
   "metadata": {},
   "outputs": [
    {
     "name": "stderr",
     "output_type": "stream",
     "text": [
      "C:\\Users\\Vladimir\\anaconda3\\lib\\site-packages\\seaborn\\_decorators.py:36: FutureWarning: Pass the following variables as keyword args: x, y. From version 0.12, the only valid positional argument will be `data`, and passing other arguments without an explicit keyword will result in an error or misinterpretation.\n",
      "  warnings.warn(\n"
     ]
    },
    {
     "data": {
      "image/png": "[encoded data removed]",
      "text/plain": [
       "<Figure size 1296x360 with 1 Axes>"
      ]
     },
     "metadata": {
      "needs_background": "light"
     },
     "output_type": "display_data"
    }
   ],
   "source": [
    "from collections import Counter\n",
    "import seaborn as sns\n",
    "\n",
    "countdata = Counter(tickers)\n",
    "countdata = dict(sorted(countdata.items(), key=lambda x: x[1], reverse=True))\n",
    "plt.figure(figsize=(18, 5));\n",
    "sns.barplot(list(countdata.keys()), list(countdata.values()));\n",
    "plt.title('Частота появления эмитента в индексе ММВБ-10');"
   ]
  },
  {
   "cell_type": "code",
   "execution_count": 8,
   "metadata": {},
   "outputs": [
    {
     "name": "stdout",
     "output_type": "stream",
     "text": [
      "Всего в нашей выборке оказалось 29 уникальных эмитентов\n"
     ]
    }
   ],
   "source": [
    "print(f'Всего в нашей выборке оказалось {len(set(tickers))} уникальных эмитентов')"
   ]
  },
  {
   "cell_type": "code",
   "execution_count": 9,
   "metadata": {},
   "outputs": [],
   "source": [
    "fpath = os.getcwd().replace('\\\\', '/').replace('/scripts', '/data')\n",
    "ticker_df = pd.DataFrame({'ticker': list(countdata.keys()),\n",
    "                          'n_times': list(countdata.values())})\n",
    "ticker_df.to_csv(fpath+'/imoex10.csv')"
   ]
  },
  {
   "cell_type": "markdown",
   "metadata": {},
   "source": [
    "При желании, можно выкинуть примерно половину эмитентов - оставить всех, кто не менее 10 раз попадал в индекс, и посчитать портфель для такого \"сокращённого состава\"."
   ]
  },
  {
   "cell_type": "code",
   "execution_count": null,
   "metadata": {},
   "outputs": [],
   "source": []
  }
 ],
 "metadata": {
  "kernelspec": {
   "display_name": "Python 3",
   "language": "python",
   "name": "python3"
  },
  "language_info": {
   "codemirror_mode": {
    "name": "ipython",
    "version": 3
   },
   "file_extension": ".py",
   "mimetype": "text/x-python",
   "name": "python",
   "nbconvert_exporter": "python",
   "pygments_lexer": "ipython3",
   "version": "3.8.5"
  }
 },
 "nbformat": 4,
 "nbformat_minor": 4
}
